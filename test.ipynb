{
 "cells": [
  {
   "cell_type": "code",
   "execution_count": null,
   "metadata": {},
   "outputs": [],
   "source": [
    "from sqlmodel import Field, Relationship, Session, SQLModel, create_engine\n",
    "\n",
    "class User(SQLModel, table=True):\n",
    "    id: int | None = Field(default=None, primary_key=True)\n",
    "    login: str\n",
    "    \n",
    "    posts: list[\"Post\"] = Relationship(back_populates=\"user\")\n",
    "    comments: list[\"Comment\"] = Relationship(back_populates=\"user\")\n",
    "\n",
    "    \n",
    "class Post(SQLModel, table=True):\n",
    "    id: int | None = Field(default=None, primary_key=True)\n",
    "    content: str\n",
    "    \n",
    "    user_id: int | None = Field(default=None, foreign_key=\"user.id\")\n",
    "    user: User | None = Relationship(back_populates=\"posts\")\n",
    "    \n",
    "    comments: list[\"Comment\"] = Relationship(back_populates=\"post\")\n",
    "    \n",
    "class Comment(SQLModel, table=True):\n",
    "    id: int | None = Field(default=None, primary_key=True)\n",
    "    content: str\n",
    "    \n",
    "    post_id: int | None = Field(default=None, foreign_key=\"post.id\")\n",
    "    post: Post | None = Relationship(back_populates=\"comments\")\n",
    "    \n",
    "    user_id: int | None = Field(default=None, foreign_key=\"user.id\")\n",
    "    user: User | None = Relationship(back_populates=\"comments\")"
   ]
  },
  {
   "cell_type": "code",
   "execution_count": 3,
   "metadata": {},
   "outputs": [
    {
     "data": {
      "text/plain": [
       "User(login='user1', id=None)"
      ]
     },
     "execution_count": 3,
     "metadata": {},
     "output_type": "execute_result"
    }
   ],
   "source": [
    "User(login=\"user1\")"
   ]
  },
  {
   "cell_type": "code",
   "execution_count": 4,
   "metadata": {},
   "outputs": [],
   "source": [
    "sqlite_file_name = \"database.db\"\n",
    "sqlite_url = f\"sqlite:///{sqlite_file_name}\"\n",
    "\n",
    "engine = create_engine(sqlite_url)\n",
    "SQLModel.metadata.create_all(engine)"
   ]
  },
  {
   "cell_type": "code",
   "execution_count": null,
   "metadata": {},
   "outputs": [
    {
     "ename": "NameError",
     "evalue": "name 'session' is not defined",
     "output_type": "error",
     "traceback": [
      "\u001b[1;31m---------------------------------------------------------------------------\u001b[0m",
      "\u001b[1;31mNameError\u001b[0m                                 Traceback (most recent call last)",
      "Cell \u001b[1;32mIn[7], line 1\u001b[0m\n\u001b[1;32m----> 1\u001b[0m \u001b[43msession\u001b[49m\u001b[38;5;241m.\u001b[39madd(User(login\u001b[38;5;241m=\u001b[39m\u001b[38;5;124m\"\u001b[39m\u001b[38;5;124muser1\u001b[39m\u001b[38;5;124m\"\u001b[39m))\n",
      "\u001b[1;31mNameError\u001b[0m: name 'session' is not defined"
     ]
    }
   ],
   "source": [
    "s.add(User(login=\"user1\"))"
   ]
  },
  {
   "cell_type": "code",
   "execution_count": 6,
   "metadata": {},
   "outputs": [],
   "source": [
    "from sqlmodel import Session, select\n",
    "\n",
    "\n",
    "s = Session(engine)\n",
    "s.add(User(login=\"user1\"))\n",
    "s.commit()"
   ]
  },
  {
   "cell_type": "code",
   "execution_count": 5,
   "metadata": {},
   "outputs": [],
   "source": [
    "from typing import Union\n",
    "\n",
    "from fastapi import FastAPI\n",
    "\n",
    "app = FastAPI()\n",
    "\n",
    "\n",
    "@app.get(\"/user/{id}\")\n",
    "def get_user(user_id: int):\n",
    "    return {\"Hello\": \"World\"}\n",
    "\n",
    "\n",
    "@app.put(\"/user/{id}\")\n",
    "def update_user(user_id: int, user: User):\n",
    "    return {\"Hello\": \"World\"}\n"
   ]
  }
 ],
 "metadata": {
  "kernelspec": {
   "display_name": "social_media",
   "language": "python",
   "name": "python3"
  },
  "language_info": {
   "codemirror_mode": {
    "name": "ipython",
    "version": 3
   },
   "file_extension": ".py",
   "mimetype": "text/x-python",
   "name": "python",
   "nbconvert_exporter": "python",
   "pygments_lexer": "ipython3",
   "version": "3.13.0"
  }
 },
 "nbformat": 4,
 "nbformat_minor": 2
}
